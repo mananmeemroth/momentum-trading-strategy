{
 "cells": [
  {
   "cell_type": "code",
   "execution_count": null,
   "metadata": {},
   "outputs": [
    {
     "ename": "",
     "evalue": "",
     "output_type": "error",
     "traceback": [
      "\u001b[1;31mRunning cells with 'Python 3.12.5' requires the ipykernel package.\n",
      "\u001b[1;31mRun the following command to install 'ipykernel' into the Python environment. \n",
      "\u001b[1;31mCommand: '/usr/local/bin/python3 -m pip install ipykernel -U --user --force-reinstall'"
     ]
    }
   ],
   "source": [
    "import pandas as pd\n",
    "import matplotlib.pyplot as plt\n",
    "from utils.data_preprocessing import merge_datasets\n",
    "from utils.momentum_indicators import calculate_rsi, calculate_sma\n",
    "from utils.backtesting import backtest_strategy\n",
    "from utils.performance_metrics import calculate_returns, calculate_sharpe_ratio, calculate_drawdown\n",
    "\n",
    "files = ['data/apple.csv', 'data/facebook.csv', 'data/tesla.csv', 'data/jpmorgan.csv', 'data/amazon.csv']\n",
    "data = merge_datasets(files)\n",
    "\n",
    "rsi_data = calculate_rsi(data['apple']) \n",
    "data['RSI'] = rsi_data\n",
    "\n",
    "data = backtest_strategy(data['apple'], data['RSI'])\n",
    "\n",
    "data = calculate_returns(data)\n",
    "sharpe_ratio = calculate_sharpe_ratio(data)\n",
    "data = calculate_drawdown(data)\n",
    "\n",
    "plt.figure(figsize=(10, 6))\n",
    "plt.plot(data['Cumulative Returns'], label='Strategy Returns')\n",
    "plt.legend()\n",
    "plt.show()\n",
    "\n",
    "print(f'Sharpe Ratio: {sharpe_ratio}')\n"
   ]
  }
 ],
 "metadata": {
  "kernelspec": {
   "display_name": "Python 3",
   "language": "python",
   "name": "python3"
  },
  "language_info": {
   "name": "python",
   "version": "3.12.5"
  }
 },
 "nbformat": 4,
 "nbformat_minor": 2
}
